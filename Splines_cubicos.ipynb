{
 "cells": [
  {
   "cell_type": "code",
   "execution_count": 1,
   "metadata": {
    "collapsed": true
   },
   "outputs": [
    {
     "name": "stdout",
     "output_type": "stream",
     "text": [
      "Requirement already satisfied: gekko in c:\\users\\mateo\\anaconda3\\lib\\site-packages (0.2.3)\n",
      "Requirement already satisfied: flask in c:\\users\\mateo\\anaconda3\\lib\\site-packages (from gekko) (1.1.1)\n",
      "Requirement already satisfied: flask-cors in c:\\users\\mateo\\anaconda3\\lib\\site-packages (from gekko) (3.0.8)\n",
      "Requirement already satisfied: numpy>=1.8 in c:\\users\\mateo\\anaconda3\\lib\\site-packages (from gekko) (1.16.4)\n",
      "Requirement already satisfied: Jinja2>=2.10.1 in c:\\users\\mateo\\anaconda3\\lib\\site-packages (from flask->gekko) (2.10.1)\n",
      "Requirement already satisfied: itsdangerous>=0.24 in c:\\users\\mateo\\anaconda3\\lib\\site-packages (from flask->gekko) (1.1.0)\n",
      "Requirement already satisfied: Werkzeug>=0.15 in c:\\users\\mateo\\anaconda3\\lib\\site-packages (from flask->gekko) (0.15.4)\n",
      "Requirement already satisfied: click>=5.1 in c:\\users\\mateo\\anaconda3\\lib\\site-packages (from flask->gekko) (7.0)\n",
      "Requirement already satisfied: Six in c:\\users\\mateo\\anaconda3\\lib\\site-packages (from flask-cors->gekko) (1.12.0)\n",
      "Requirement already satisfied: MarkupSafe>=0.23 in c:\\users\\mateo\\anaconda3\\lib\\site-packages (from Jinja2>=2.10.1->flask->gekko) (1.1.1)\n",
      "Note: you may need to restart the kernel to use updated packages.\n"
     ]
    }
   ],
   "source": [
    "pip install gekko"
   ]
  },
  {
   "cell_type": "code",
   "execution_count": 2,
   "metadata": {},
   "outputs": [
    {
     "name": "stdout",
     "output_type": "stream",
     "text": [
      "S0(1<=x<=2)= -14.0 + -10.158396486220276 *(x-1)+ 0.0 *(x-1)**2+ 0.15839648622027624 *(x-1)**3\n",
      "S1(2< x<=3)= -24.0 + -9.68320702755945 *(x-2)+ 0.47518945866082163 *(x-2)**2+ 1.2080175688986277 *(x-2)**3\n",
      "S2(3< x<=5)= -32.0 + -5.108775403541923 *(x-3)+ 4.099242165356703 *(x-3)**2+ 0.9775727682071294 *(x-3)**3\n",
      "S3(5< x<=6)= -18.0 + 23.01906647637044 *(x-5)+ 9.964678774599477 *(x-5)**2+ 1.0162547490300824 *(x-5)**3\n",
      "S4(6< x<=7)= 16.0 + 45.99718827265965 *(x-6)+ 13.013443021689746 *(x-6)**2+ 0.9893687056506053 *(x-6)**3\n",
      "S5(7< x<=9)= 76.0 + 74.99218043299095 *(x-7)+ 15.981549138641512 *(x-7)**2+ 1.0111803224315068 *(x-7)**3\n",
      "S6(9< x<=10)= 298.0 + 151.05254085673508 *(x-9)+ 22.048631073230553 *(x-9)**2+ 0.8988280700343694 *(x-9)**3\n",
      "S7(10< x<=12)= 472.0 + 197.84628721329932 *(x-10)+ 24.74511528333366 *(x-10)**2+ 1.1658705550083397 *(x-10)**3\n",
      "S8(12< x<=13)= 976.0 + 310.81719500673404 *(x-12)+ 31.7403386133837 *(x-12)**2+ -0.5575336201177379 *(x-12)**3\n",
      "S9(13< x<=14)= 1318.0 + 372.62527137314817 *(x-13)+ 30.0677377530302 *(x-13)**2+ 7.306990873821633 *(x-13)**3\n",
      "S10(14< x<=16)= 1728.0 + 454.6817195006734 *(x-14)+ 51.98871037449496 *(x-14)**2+ -8.664785062415831 *(x-14)**3\n"
     ]
    }
   ],
   "source": [
    "import numpy as np\n",
    "from scipy.interpolate import CubicSpline\n",
    "#Calcular n polinomios cúbicos para n+1 puntos\n",
    "#En este caso, 12 polinomios para 13 puntos\n",
    "#(x,y)= (1,-14) (2,-24) ... (14,1728) (16,2776)\n",
    "\n",
    "x = np.array([1,2,3,5,6,7,9,10,12,13,14,16])\n",
    "y = np.array([-14,-24,-32,-18,16,76,298,472,976,1318,1728,2776])\n",
    "\n",
    "cs = CubicSpline(x,y,bc_type='natural')\n",
    "\n",
    "a0 = cs.c.item(3,0)\n",
    "b0 = cs.c.item(2,0)\n",
    "c0 = cs.c.item(1,0)\n",
    "d0 = cs.c.item(0,0)\n",
    "\n",
    "a1 = cs.c.item(3,1)\n",
    "b1 = cs.c.item(2,1)\n",
    "c1 = cs.c.item(1,1)\n",
    "d1 = cs.c.item(0,1)\n",
    "\n",
    "a2 = cs.c.item(3,2)\n",
    "b2 = cs.c.item(2,2)\n",
    "c2 = cs.c.item(1,2)\n",
    "d2 = cs.c.item(0,2)\n",
    "\n",
    "a3 = cs.c.item(3,3)\n",
    "b3 = cs.c.item(2,3)\n",
    "c3 = cs.c.item(1,3)\n",
    "d3 = cs.c.item(0,3)\n",
    "\n",
    "a4 = cs.c.item(3,4)\n",
    "b4 = cs.c.item(2,4)\n",
    "c4 = cs.c.item(1,4)\n",
    "d4 = cs.c.item(0,4)\n",
    "\n",
    "a5 = cs.c.item(3,5)\n",
    "b5 = cs.c.item(2,5)\n",
    "c5 = cs.c.item(1,5)\n",
    "d5 = cs.c.item(0,5)\n",
    "\n",
    "a6 = cs.c.item(3,6)\n",
    "b6 = cs.c.item(2,6)\n",
    "c6 = cs.c.item(1,6)\n",
    "d6 = cs.c.item(0,6)\n",
    "\n",
    "a7 = cs.c.item(3,7)\n",
    "b7 = cs.c.item(2,7)\n",
    "c7 = cs.c.item(1,7)\n",
    "d7 = cs.c.item(0,7)\n",
    "\n",
    "a8 = cs.c.item(3,8)\n",
    "b8 = cs.c.item(2,8)\n",
    "c8 = cs.c.item(1,8)\n",
    "d8 = cs.c.item(0,8)\n",
    "\n",
    "a9 = cs.c.item(3,9)\n",
    "b9 = cs.c.item(2,9)\n",
    "c9 = cs.c.item(1,9)\n",
    "d9 = cs.c.item(0,9)\n",
    "\n",
    "a10 = cs.c.item(3,10)\n",
    "b10 = cs.c.item(2,10)\n",
    "c10 = cs.c.item(1,10)\n",
    "d10 = cs.c.item(0,10)\n",
    "\n",
    "#Los polinomios correspondientes a cada intervalo son:\n",
    "\n",
    "print('S0(1<=x<=2)=',a0,'+',b0,'*''(x-1)+',c0,'*''(x-1)**2+',d0,'*''(x-1)**3')\n",
    "print('S1(2< x<=3)=',a1,'+',b1,'*''(x-2)+',c1,'*''(x-2)**2+',d1,'*''(x-2)**3')\n",
    "print('S2(3< x<=5)=',a2,'+',b2,'*''(x-3)+',c2,'*''(x-3)**2+',d2,'*''(x-3)**3')\n",
    "print('S3(5< x<=6)=',a3,'+',b3,'*''(x-5)+',c3,'*''(x-5)**2+',d3,'*''(x-5)**3')\n",
    "print('S4(6< x<=7)=',a4,'+',b4,'*''(x-6)+',c4,'*''(x-6)**2+',d4,'*''(x-6)**3')\n",
    "print('S5(7< x<=9)=',a5,'+',b5,'*''(x-7)+',c5,'*''(x-7)**2+',d5,'*''(x-7)**3')\n",
    "print('S6(9< x<=10)=',a6,'+',b6,'*''(x-9)+',c6,'*''(x-9)**2+',d6,'*''(x-9)**3')\n",
    "print('S7(10< x<=12)=',a7,'+',b7,'*''(x-10)+',c7,'*''(x-10)**2+',d7,'*''(x-10)**3')\n",
    "print('S8(12< x<=13)=',a8,'+',b8,'*''(x-12)+',c8,'*''(x-12)**2+',d8,'*''(x-12)**3')\n",
    "print('S9(13< x<=14)=',a9,'+',b9,'*''(x-13)+',c9,'*''(x-13)**2+',d9,'*''(x-13)**3')\n",
    "print('S10(14< x<=16)=',a10,'+',b10,'*''(x-14)+',c10,'*''(x-14)**2+',d10,'*''(x-14)**3')"
   ]
  },
  {
   "cell_type": "code",
   "execution_count": 6,
   "metadata": {},
   "outputs": [
    {
     "data": {
      "image/png": "[encoded data removed]",
      "text/plain": [
       "<Figure size 432x288 with 1 Axes>"
      ]
     },
     "metadata": {
      "needs_background": "light"
     },
     "output_type": "display_data"
    }
   ],
   "source": [
    "\n",
    "import matplotlib.pyplot as plt\n",
    "import numpy as np\n",
    "\n",
    "def S0(x):\n",
    "  return -14.0 + -10.158396486220274 *(x-1)+ -1.7763568394002505e-15 *(x-1)**2+ 0.15839648622027624 *(x-1)**3\n",
    "\n",
    "def S1(x):\n",
    "  return -24.0 + -9.683207027559451 *(x-2)+ 0.4751894586608252 *(x-2)**2+ 1.2080175688986259 *(x-2)**3\n",
    "\n",
    "def S2(x):\n",
    "  return -32.0 + -5.108775403541922 *(x-3)+ 4.099242165356705 *(x-3)**2+ 0.9775727682071285 *(x-3)**3\n",
    "\n",
    "def S3(x):\n",
    "  return -18.0 + 23.019066476370437 *(x-5)+ 9.964678774599466 *(x-5)**2+ 1.0162547490300966 *(x-5)**3\n",
    "\n",
    "def S4(x): \n",
    "  return 16.0 + 45.997188272659656 *(x-6)+ 13.013443021689739 *(x-6)**2+ 0.9893687056506053 *(x-6)**3\n",
    "\n",
    "def S5(x):\n",
    "  return 76.0 + 74.99218043299095 *(x-7)+ 15.981549138641512 *(x-7)**2+ 1.0111803224315068 *(x-7)**3\n",
    "\n",
    "def S6(x):\n",
    "  return  298.0 + 151.05254085673508 *(x-9)+ 22.048631073230553 *(x-9)**2+ 0.8988280700343694 *(x-9)**3\n",
    "\n",
    "def S7(x):\n",
    "  return 472.0 + 197.8462872132993 *(x-10)+ 24.745115283333703 *(x-10)**2+ 1.1658705550083255 *(x-10)**3\n",
    "\n",
    "def S8(x):\n",
    "  return 976.0 + 310.81719500673404 *(x-12)+ 31.7403386133837 *(x-12)**2+ -0.5575336201177379 *(x-12)**3\n",
    "\n",
    "def S9(x):\n",
    "  return 1318.0 + 372.62527137314817 *(x-13)+ 30.0677377530302 *(x-13)**2+ 7.306990873821633 *(x-13)**3\n",
    "\n",
    "def S10(x):\n",
    "  return 1728.0 + 454.6817195006734 *(x-14)+ 51.98871037449496 *(x-14)**2+ -8.664785062415831 *(x-14)**3\n",
    "\n",
    "x = np.linspace(0, 50)\n",
    "\n",
    "plt.plot(x, [S0(i) for i in x])\n",
    "plt.plot(x, [S1(i) for i in x])\n",
    "plt.plot(x, [S2(i) for i in x])\n",
    "plt.plot(x, [S3(i) for i in x])\n",
    "plt.plot(x, [S4(i) for i in x])\n",
    "plt.plot(x, [S5(i) for i in x])\n",
    "plt.plot(x, [S6(i) for i in x])\n",
    "plt.plot(x, [S7(i) for i in x])\n",
    "plt.plot(x, [S8(i) for i in x])\n",
    "plt.plot(x, [S9(i) for i in x])\n",
    "plt.plot(x, [S10(i) for i in x])\n",
    "\n",
    "plt.show()"
   ]
  },
  {
   "cell_type": "code",
   "execution_count": 4,
   "metadata": {},
   "outputs": [
    {
     "data": {
      "text/plain": [
       "-32.03196046997809"
      ]
     },
     "execution_count": 4,
     "metadata": {},
     "output_type": "execute_result"
    }
   ],
   "source": [
    "S2(4)"
   ]
  },
  {
   "cell_type": "code",
   "execution_count": 5,
   "metadata": {},
   "outputs": [
    {
     "data": {
      "text/plain": [
       "<matplotlib.legend.Legend at 0x1b991f89a58>"
      ]
     },
     "execution_count": 5,
     "metadata": {},
     "output_type": "execute_result"
    },
    {
     "data": {
      "image/png": "[encoded data removed]",
      "text/plain": [
       "<Figure size 432x288 with 1 Axes>"
      ]
     },
     "metadata": {
      "needs_background": "light"
     },
     "output_type": "display_data"
    }
   ],
   "source": [
    "import numpy as np \n",
    "import matplotlib.pyplot as plt\n",
    "%matplotlib inline\n",
    "\n",
    "xm = np.array([1,2,3,5,6,7,9,10,12,13,14,16])\n",
    "ym = np.array([-14,-24,-32,-18,16,76,298,472,976,1318,1728,2776])\n",
    "\n",
    "from gekko import GEKKO\n",
    "\n",
    "m = GEKKO()\n",
    "m.options.IMODE = 2\n",
    "x = m.Param(value=np.linspace(-1,17))\n",
    "y = m.Var()\n",
    "m.cspline(x, y, xm, ym)\n",
    "m.solve(disp=False)\n",
    "\n",
    "p = GEKKO()\n",
    "p.x = p.Var(value=1, lb=0, ub=20)\n",
    "p.y = p.Var()\n",
    "p.Obj(p.y)\n",
    "p.cspline(p.x, p.y, xm, ym)\n",
    "p.solve(disp=False)\n",
    "\n",
    "plt.plot(xm, ym, 'bo', label='data')\n",
    "plt.plot(x, y, 'r--', label= 'cubic spline')\n",
    "plt.plot(p.x, p.y, 'ko', label='maximum')\n",
    "plt.legend(loc='best')"
   ]
  },
  {
   "cell_type": "code",
   "execution_count": null,
   "metadata": {},
   "outputs": [],
   "source": []
  }
 ],
 "metadata": {
  "kernelspec": {
   "display_name": "Python 3",
   "language": "python",
   "name": "python3"
  },
  "language_info": {
   "codemirror_mode": {
    "name": "ipython",
    "version": 3
   },
   "file_extension": ".py",
   "mimetype": "text/x-python",
   "name": "python",
   "nbconvert_exporter": "python",
   "pygments_lexer": "ipython3",
   "version": "3.7.3"
  }
 },
 "nbformat": 4,
 "nbformat_minor": 2
}
