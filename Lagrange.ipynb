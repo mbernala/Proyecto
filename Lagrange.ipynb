{
 "cells": [
  {
   "cell_type": "markdown",
   "metadata": {},
   "source": [
    "# **Método de Lagrange**"
   ]
  },
  {
   "cell_type": "code",
   "execution_count": 2,
   "metadata": {},
   "outputs": [
    {
     "data": {
      "image/png": "[encoded data removed]",
      "text/plain": [
       "<Figure size 432x288 with 1 Axes>"
      ]
     },
     "metadata": {
      "needs_background": "light"
     },
     "output_type": "display_data"
    },
    {
     "name": "stdout",
     "output_type": "stream",
     "text": [
      "\u001b[1;30mSu polinomio interpolador es:\n",
      "            11             10             9             8             7\n",
      "-2.753e-21 x  + 4.066e-18 x  - 8.023e-17 x + 3.289e-15 x - 3.864e-14 x\n",
      "              6             5             4     3     2\n",
      " + 5.009e-13 x - 2.728e-12 x + 3.354e-12 x + 1 x - 5 x - 2 x - 8\n",
      "     \n",
      "El resultado en el punto requerido es:\n",
      "-31.999999999126672\n"
     ]
    }
   ],
   "source": [
    "from scipy.interpolate import lagrange\n",
    "import matplotlib.pyplot as plt\n",
    "import numpy as np\n",
    "import ipywidgets as widgets\n",
    "\n",
    "\n",
    "x2 = np.array([1, 2, 3, 5, 6, 7, 9, 10, 12, 13, 14, 16])\n",
    "y2 = np.array([-14, -24, -32, -18, 16, 76, 298, 472, 976, 1318, 1728, 2776])\n",
    "\n",
    "plt.plot (x2, y2, \"r-.\", color='blue')\n",
    "plt.show ()\n",
    "p2 = lagrange(x2, y2)\n",
    "print(\"\\x1b[1;30m\"+\"Su polinomio interpolador es:\")\n",
    "print (p2)\n",
    "print(\"     \")\n",
    "print(\"El resultado en el punto requerido es:\")\n",
    "print (p2(4))\n"
   ]
  },
  {
   "cell_type": "code",
   "execution_count": null,
   "metadata": {},
   "outputs": [],
   "source": []
  }
 ],
 "metadata": {
  "kernelspec": {
   "display_name": "Python 3",
   "language": "python",
   "name": "python3"
  },
  "language_info": {
   "codemirror_mode": {
    "name": "ipython",
    "version": 3
   },
   "file_extension": ".py",
   "mimetype": "text/x-python",
   "name": "python",
   "nbconvert_exporter": "python",
   "pygments_lexer": "ipython3",
   "version": "3.7.3"
  }
 },
 "nbformat": 4,
 "nbformat_minor": 2
}
